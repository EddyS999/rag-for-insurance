{
 "cells": [
  {
   "cell_type": "code",
   "execution_count": 93,
   "metadata": {},
   "outputs": [],
   "source": [
    "from transformers import AutoModelForCausalLM, AutoTokenizer\n",
    "from pathlib import Path\n",
    "import numpy as np\n",
    "import pandas as pd\n",
    "import json"
   ]
  },
  {
   "cell_type": "markdown",
   "metadata": {},
   "source": [
    "# 1) utils\n",
    "Bunch of functions that are usefull for our implementation "
   ]
  },
  {
   "cell_type": "code",
   "execution_count": null,
   "metadata": {},
   "outputs": [],
   "source": [
    "def parse_smoll_response(response):\n",
    "  start_tag = \"<|im_start|>assistant\"\n",
    "  end_tag = \"<|im_end|>\"\n",
    "  start_index = response.find(start_tag)\n",
    "\n",
    "  start_index += len(start_tag)\n",
    "    \n",
    "  end_index = response.find(end_tag, start_index)\n",
    "  if end_index == -1:\n",
    "        return \"\"  \n",
    "    \n",
    "  raw_response = response[start_index:end_index]\n",
    "    \n",
    "  return raw_response.strip()\n",
    "\n",
    "def parse_document(text):\n",
    "    \"\"\"\n",
    "    We Split documents in paragraph. \n",
    "    In each splitted paragraph, we add the title of the current document.\n",
    "    \"\"\"\n",
    "    chunks = text.split(\"\\n\\n\")  # Découpe le texte en paragraphes\n",
    "    title = chunks[0].replace(\"# Title: \", \"\")  # Extrait le titre\n",
    "\n",
    "    formatted_chunks = []  \n",
    "    for chunk in chunks:  # On parcourt chaque paragraphe\n",
    "        formatted_chunks.append(f\"{title}: {chunk}\")  # On ajoute le titre devant\n",
    "\n",
    "    return {\"title\": title, \"chunks\": formatted_chunks}  # On retourne le dictionnaire\n",
    "\n"
   ]
  },
  {
   "cell_type": "code",
   "execution_count": 2,
   "metadata": {},
   "outputs": [],
   "source": [
    "smoll360m = \"HuggingFaceTB/SmolLM2-360M-Instruct\""
   ]
  },
  {
   "cell_type": "code",
   "execution_count": 17,
   "metadata": {},
   "outputs": [],
   "source": [
    "path = Path(\"./corpus\")"
   ]
  },
  {
   "cell_type": "code",
   "execution_count": 56,
   "metadata": {},
   "outputs": [],
   "source": [
    "device = \"cpu\" # for GPU usage or \"cpu\" for CPU usage\n",
    "tokenizer = AutoTokenizer.from_pretrained(smoll360m)\n",
    "model = AutoModelForCausalLM.from_pretrained(smoll360m).to(device)"
   ]
  },
  {
   "cell_type": "code",
   "execution_count": 100,
   "metadata": {},
   "outputs": [],
   "source": [
    "message = \"who are you ?\""
   ]
  },
  {
   "cell_type": "code",
   "execution_count": 101,
   "metadata": {},
   "outputs": [],
   "source": [
    "messages = [{\"role\": \"user\", \"content\": message}]\n",
    "input_text=tokenizer.apply_chat_template(messages, tokenize=False)"
   ]
  },
  {
   "cell_type": "code",
   "execution_count": 102,
   "metadata": {},
   "outputs": [
    {
     "name": "stdout",
     "output_type": "stream",
     "text": [
      "I'm a chatbot designed to assist users with their queries and provide helpful information. I was trained on a vast amount of text data from various sources, including Hugging Face's TensorFlow and PyTorch libraries, which enables me to understand and respond to a wide range of questions.\n"
     ]
    }
   ],
   "source": [
    "inputs = tokenizer.encode(input_text, return_tensors=\"pt\").to(device)\n",
    "outputs = model.generate(inputs, max_new_tokens=500, temperature=0.2, top_p=0.9, do_sample=True)\n",
    "print(parse_smoll_response(tokenizer.decode(outputs[0])))"
   ]
  },
  {
   "cell_type": "markdown",
   "metadata": {},
   "source": [
    "# 2) Chunking \n",
    "Here, we are going to chunk the whole set of informations throughout `parse_class_add_title` function.\n",
    "As result we have the following output : \n",
    "```python\n",
    "{\n",
    "    \"title\": \"Notice d’Information\",\n",
    "    \"chunks\": [\n",
    "        \"Notice d’Information: # Title: Notice d’Information\",\n",
    "        \"Notice d’Information: Introduction du document.\",\n",
    "        \"Notice d’Information: ## Section 1\",\n",
    "        \"Notice d’Information: Détails de la première section.\",\n",
    "        \"Notice d’Information: ## Section 2\",\n",
    "        \"Notice d’Information: Détails de la deuxième section.\"\n",
    "    ]\n",
    "}\n",
    "\n",
    "We chose to keep the title behind each chunk to conserve the context.\n"
   ]
  },
  {
   "cell_type": "code",
   "execution_count": 31,
   "metadata": {},
   "outputs": [
    {
     "data": {
      "text/plain": [
       "'# NOTICE D’INFORMATION : Contrat Patrimoine Vie Plus\\n\\nCette notice présente les principales caractéristiques du contrat Patrimoine Vie Plus, distribué par Capital&Co Assurances.\\n\\n## 1. Objet du Contrat\\n\\n- Protéger et valoriser l’épargne du souscripteur via un contrat d’assurance vie multisupport.\\n\\n## 2. Garanties\\n\\n1. **Garantie en cas de Décès** :  \\n   - Capital versé = valeur atteinte des supports à la date du décès.  \\n   - Majoration possible selon l’âge de l’assuré (barème présenté en annexe).\\n\\n2. **Garantie en cas de Vie** :  \\n   - Disponibilité de l’épargne sous forme de rachats partiels ou totaux.\\n\\n## 3. Frais et Charges\\n\\n- **Frais de Souscription** : 2,5% des versements.  \\n- **Frais de Gestion** : 1,2% annuels pour les unités de compte, 0,7% pour le fonds en euros.\\n- **Frais de Transfert/Arbitrage** : 2 opérations gratuites par an, puis 15€ par arbitrage supplémentaire.\\n\\n## 4. Modalités de Règlement des Prestations\\n\\n- En cas de décès, le bénéficiaire doit fournir :  \\n  - Acte de décès  \\n  - Justificatif d’identité  \\n  - Coordonnées bancaires  \\n- Les fonds sont versés dans un délai maximum de 30 jours après réception des pièces complètes.\\n\\n## 5. Clause Bénéficiaire\\n\\n- Par défaut : « Le conjoint survivant, à défaut les enfants nés ou à naître, à défaut les héritiers légaux. »\\n- Le souscripteur peut désigner tout autre bénéficiaire par écrit.  \\n\\n## 6. Résiliation et Rachat\\n\\n- Le souscripteur peut résilier à tout moment, entraînant le versement de la valeur de rachat.\\n- Des pénalités peuvent s’appliquer si le contrat a moins d’un an d’ancienneté.\\n\\n## 7. Garanties Complémentaires (Optionnelles)\\n\\n- Garantie Invalidité : Versement anticipé en cas d’invalidité totale et définitive de l’assuré.\\n- Garantie Exonération de Primes : En cas d’incapacité de travail de longue durée.\\n\\n## 8. Informations Complémentaires\\n\\n- Code des assurances en vigueur.\\n- Risque de perte en capital sur les unités de compte.\\n- Toutes les informations relatives aux rendements passés sont fournies à titre indicatif et ne constituent pas une garantie de performance future.\\n\\nPour plus de détails, reportez-vous aux conditions générales du contrat et aux annexes techniques.\\n\\nFait à Marseille, le 10/05/2024\\n\\n**Signature du Souscripteur** : ………………………  \\n**Signature de l’Assureur** : ………………………\\n'"
      ]
     },
     "execution_count": 31,
     "metadata": {},
     "output_type": "execute_result"
    }
   ],
   "source": [
    "texts = []\n",
    "for filename in path.glob(\"*.md\"):\n",
    "    with open(filename) as f:\n",
    "        texts.append(f.read())\n",
    "texts[0]"
   ]
  },
  {
   "cell_type": "markdown",
   "metadata": {},
   "source": [
    "Here, we put every chunk created into one set."
   ]
  },
  {
   "cell_type": "code",
   "execution_count": 32,
   "metadata": {},
   "outputs": [],
   "source": [
    "chunks = []  \n",
    "\n",
    "for txt in texts:  # On parcourt chaque document dans la liste `texts`\n",
    "    parsed_data = parse_document(txt)  # On applique la fonction pour obtenir un dictionnaire\n",
    "    chunks.extend(parsed_data[\"chunks\"])  # On ajoute tous les chunks à la liste `chunks`"
   ]
  },
  {
   "cell_type": "code",
   "execution_count": 33,
   "metadata": {},
   "outputs": [
    {
     "data": {
      "text/plain": [
       "['# NOTICE D’INFORMATION : Contrat Patrimoine Vie Plus: # NOTICE D’INFORMATION : Contrat Patrimoine Vie Plus',\n",
       " '# NOTICE D’INFORMATION : Contrat Patrimoine Vie Plus: Cette notice présente les principales caractéristiques du contrat Patrimoine Vie Plus, distribué par Capital&Co Assurances.',\n",
       " '# NOTICE D’INFORMATION : Contrat Patrimoine Vie Plus: ## 1. Objet du Contrat',\n",
       " '# NOTICE D’INFORMATION : Contrat Patrimoine Vie Plus: - Protéger et valoriser l’épargne du souscripteur via un contrat d’assurance vie multisupport.',\n",
       " '# NOTICE D’INFORMATION : Contrat Patrimoine Vie Plus: ## 2. Garanties',\n",
       " '# NOTICE D’INFORMATION : Contrat Patrimoine Vie Plus: 1. **Garantie en cas de Décès** :  \\n   - Capital versé = valeur atteinte des supports à la date du décès.  \\n   - Majoration possible selon l’âge de l’assuré (barème présenté en annexe).',\n",
       " '# NOTICE D’INFORMATION : Contrat Patrimoine Vie Plus: 2. **Garantie en cas de Vie** :  \\n   - Disponibilité de l’épargne sous forme de rachats partiels ou totaux.',\n",
       " '# NOTICE D’INFORMATION : Contrat Patrimoine Vie Plus: ## 3. Frais et Charges',\n",
       " '# NOTICE D’INFORMATION : Contrat Patrimoine Vie Plus: - **Frais de Souscription** : 2,5% des versements.  \\n- **Frais de Gestion** : 1,2% annuels pour les unités de compte, 0,7% pour le fonds en euros.\\n- **Frais de Transfert/Arbitrage** : 2 opérations gratuites par an, puis 15€ par arbitrage supplémentaire.',\n",
       " '# NOTICE D’INFORMATION : Contrat Patrimoine Vie Plus: ## 4. Modalités de Règlement des Prestations',\n",
       " '# NOTICE D’INFORMATION : Contrat Patrimoine Vie Plus: - En cas de décès, le bénéficiaire doit fournir :  \\n  - Acte de décès  \\n  - Justificatif d’identité  \\n  - Coordonnées bancaires  \\n- Les fonds sont versés dans un délai maximum de 30 jours après réception des pièces complètes.',\n",
       " '# NOTICE D’INFORMATION : Contrat Patrimoine Vie Plus: ## 5. Clause Bénéficiaire',\n",
       " '# NOTICE D’INFORMATION : Contrat Patrimoine Vie Plus: - Par défaut : « Le conjoint survivant, à défaut les enfants nés ou à naître, à défaut les héritiers légaux. »\\n- Le souscripteur peut désigner tout autre bénéficiaire par écrit.  ',\n",
       " '# NOTICE D’INFORMATION : Contrat Patrimoine Vie Plus: ## 6. Résiliation et Rachat',\n",
       " '# NOTICE D’INFORMATION : Contrat Patrimoine Vie Plus: - Le souscripteur peut résilier à tout moment, entraînant le versement de la valeur de rachat.\\n- Des pénalités peuvent s’appliquer si le contrat a moins d’un an d’ancienneté.',\n",
       " '# NOTICE D’INFORMATION : Contrat Patrimoine Vie Plus: ## 7. Garanties Complémentaires (Optionnelles)',\n",
       " '# NOTICE D’INFORMATION : Contrat Patrimoine Vie Plus: - Garantie Invalidité : Versement anticipé en cas d’invalidité totale et définitive de l’assuré.\\n- Garantie Exonération de Primes : En cas d’incapacité de travail de longue durée.',\n",
       " '# NOTICE D’INFORMATION : Contrat Patrimoine Vie Plus: ## 8. Informations Complémentaires',\n",
       " '# NOTICE D’INFORMATION : Contrat Patrimoine Vie Plus: - Code des assurances en vigueur.\\n- Risque de perte en capital sur les unités de compte.\\n- Toutes les informations relatives aux rendements passés sont fournies à titre indicatif et ne constituent pas une garantie de performance future.',\n",
       " '# NOTICE D’INFORMATION : Contrat Patrimoine Vie Plus: Pour plus de détails, reportez-vous aux conditions générales du contrat et aux annexes techniques.',\n",
       " '# NOTICE D’INFORMATION : Contrat Patrimoine Vie Plus: Fait à Marseille, le 10/05/2024',\n",
       " '# NOTICE D’INFORMATION : Contrat Patrimoine Vie Plus: **Signature du Souscripteur** : ………………………  \\n**Signature de l’Assureur** : ………………………\\n',\n",
       " '# NOTICE D’INFORMATION : Contrat Capital Futur Senior: # NOTICE D’INFORMATION : Contrat Capital Futur Senior',\n",
       " '# NOTICE D’INFORMATION : Contrat Capital Futur Senior: Cette notice concerne le produit d’assurance vie “Capital Futur Senior”, spécialement conçu pour les personnes de plus de 60 ans souhaitant transmettre un capital à leurs proches ou se constituer un complément de revenus.',\n",
       " '# NOTICE D’INFORMATION : Contrat Capital Futur Senior: ## 1. Objectifs du Contrat',\n",
       " '# NOTICE D’INFORMATION : Contrat Capital Futur Senior: - Garantir un capital décès à hauteur de l’épargne acquise.\\n- Générer des revenus complémentaires sous forme de rachats partiels ou de rente.\\n- Offrir un cadre fiscal avantageux en cas de transmission.',\n",
       " '# NOTICE D’INFORMATION : Contrat Capital Futur Senior: ## 2. Caractéristiques Principales',\n",
       " '# NOTICE D’INFORMATION : Contrat Capital Futur Senior: - **Assureur** : SeniorVie Assurances\\n- **Âge d’Adhésion** : 60 à 75 ans\\n- **Durée** : À vie, avec possibilité de résiliation à tout moment.',\n",
       " '# NOTICE D’INFORMATION : Contrat Capital Futur Senior: ## 3. Cotisations',\n",
       " '# NOTICE D’INFORMATION : Contrat Capital Futur Senior: - **Versement Initial** : Montant libre à partir de 1 000 €.\\n- **Primes Périodiques** : Mensuelles, trimestrielles ou annuelles (minimum 200 € par trimestre).\\n- **Frais de Souscription** : 2,8% sur chaque versement.',\n",
       " '# NOTICE D’INFORMATION : Contrat Capital Futur Senior: ## 4. Garanties et Options',\n",
       " '# NOTICE D’INFORMATION : Contrat Capital Futur Senior: 1. **Garantie Principale** :  \\n   - Versement au bénéficiaire de la valeur atteinte du contrat au moment du décès de l’assuré.\\n2. **Option Rente Viagère** :  \\n   - À partir de 65 ans, possibilité de transformer tout ou partie du capital en rente.\\n3. **Option Invalidité (Facultative)** :  \\n   - Sous réserve d’une sélection médicale, cette option prévoit une avance partielle du capital en cas d’invalidité permanente.',\n",
       " '# NOTICE D’INFORMATION : Contrat Capital Futur Senior: ## 5. Exclusions',\n",
       " '# NOTICE D’INFORMATION : Contrat Capital Futur Senior: - Non-paiement des primes : L’assureur peut suspendre les garanties après mise en demeure.\\n- Décès survenu suite à un acte intentionnel d’un bénéficiaire : Le bénéficiaire concerné perd tout droit.',\n",
       " '# NOTICE D’INFORMATION : Contrat Capital Futur Senior: ## 6. Rachat',\n",
       " '# NOTICE D’INFORMATION : Contrat Capital Futur Senior: - **Total** : Versement de la valeur du contrat, déduction faite des éventuels frais (0% après 2 ans).\\n- **Partiel** : Montant minimum de 500 €, avec un solde d’au moins 500 € restant sur le contrat.',\n",
       " '# NOTICE D’INFORMATION : Contrat Capital Futur Senior: ## 7. Information Annuelle',\n",
       " '# NOTICE D’INFORMATION : Contrat Capital Futur Senior: - L’assureur communique chaque année :  \\n  - Les performances du ou des fonds.  \\n  - Le montant des frais de gestion prélevés.  \\n  - La valeur de rachat possible.',\n",
       " '# NOTICE D’INFORMATION : Contrat Capital Futur Senior: ## 8. Règlement des Prestations',\n",
       " '# NOTICE D’INFORMATION : Contrat Capital Futur Senior: - À réception des pièces justificatives (acte de décès, etc.), SeniorVie Assurances dispose d’un délai de 30 jours pour régler les sommes dues.',\n",
       " '# NOTICE D’INFORMATION : Contrat Capital Futur Senior: ## 9. Réclamations et Litiges',\n",
       " '# NOTICE D’INFORMATION : Contrat Capital Futur Senior: - Les réclamations sont à adresser au Service Qualité de SeniorVie Assurances.\\n- Litiges éventuels soumis aux tribunaux compétents du lieu de résidence du souscripteur ou du siège de l’assureur (au choix du souscripteur).',\n",
       " '# NOTICE D’INFORMATION : Contrat Capital Futur Senior: Fait à Bordeaux, le 02/01/2025',\n",
       " '# NOTICE D’INFORMATION : Contrat Capital Futur Senior: **Signature du Souscripteur** : ………………  \\n**Signature de l’Assureur** : ………………\\n',\n",
       " '# CONTRAT D’ASSURANCE VIE : AssurPlus Vie: # CONTRAT D’ASSURANCE VIE : AssurPlus Vie',\n",
       " '# CONTRAT D’ASSURANCE VIE : AssurPlus Vie: ## 1. Informations Générales',\n",
       " '# CONTRAT D’ASSURANCE VIE : AssurPlus Vie: - Nom de l’Assureur : AssurPlus SA\\n- Forme du Contrat : Contrat individuel d’assurance vie\\n- Date d’effet : 01/01/2023\\n- Durée : Contrat à durée indéterminée',\n",
       " '# CONTRAT D’ASSURANCE VIE : AssurPlus Vie: ## 2. Définitions',\n",
       " '# CONTRAT D’ASSURANCE VIE : AssurPlus Vie: - Souscripteur : Personne physique ou morale qui signe le contrat.\\n- Bénéficiaire : Personne désignée pour percevoir les prestations en cas de décès ou de vie.\\n- Prime : Montant versé par le souscripteur, ponctuellement ou périodiquement, pour financer les garanties.\\n- Valeur de rachat : Somme que peut retirer le souscripteur s’il met fin au contrat avant l’échéance.',\n",
       " '# CONTRAT D’ASSURANCE VIE : AssurPlus Vie: ## 3. Garanties Principales',\n",
       " '# CONTRAT D’ASSURANCE VIE : AssurPlus Vie: 1. **Garantie Décès**  \\n   - Versement au bénéficiaire d’un capital correspondant à la valeur du contrat au jour du décès.\\n2. **Garantie Vie**  \\n   - Versement d’un capital ou d’une rente si le souscripteur est en vie à une date donnée (par exemple au 10e anniversaire du contrat).',\n",
       " '# CONTRAT D’ASSURANCE VIE : AssurPlus Vie: ## 4. Modalités de Souscription',\n",
       " '# CONTRAT D’ASSURANCE VIE : AssurPlus Vie: - **Prime Initiale** : 2 000 € minimum à l’adhésion.  \\n- **Primes Complémentaires** : Versements libres, avec un minimum de 200 € par versement.  \\n- **Frais sur versement** : 2% des montants versés, prélevés avant investissement.',\n",
       " '# CONTRAT D’ASSURANCE VIE : AssurPlus Vie: ## 5. Valeurs de Rachat et Frais',\n",
       " '# CONTRAT D’ASSURANCE VIE : AssurPlus Vie: - **Valeur de Rachat** : Évolue selon la performance du fonds en euros et/ou des unités de compte.\\n- **Frais de Gestion** : 0,85% par an sur l’épargne investie.\\n- **Pénalités de Rachat** : Aucune pénalité au-delà de la 3ème année. Entre 0 et 3 ans, pénalité dégressive allant de 3% à 1%.',\n",
       " '# CONTRAT D’ASSURANCE VIE : AssurPlus Vie: ## 6. Désignation du Bénéficiaire',\n",
       " '# CONTRAT D’ASSURANCE VIE : AssurPlus Vie: - Le souscripteur doit renseigner le bénéficiaire dans le formulaire de souscription (ex.: “Mon conjoint puis mes enfants nés ou à naître”).\\n- Toute modification doit être notifiée à AssurPlus SA par écrit et validée par un avenant au contrat.',\n",
       " '# CONTRAT D’ASSURANCE VIE : AssurPlus Vie: ## 7. Exclusions',\n",
       " '# CONTRAT D’ASSURANCE VIE : AssurPlus Vie: - **Suicide** : Pendant la première année de contrat, le suicide du souscripteur n’ouvre pas droit à la garantie décès.\\n- **Fausse déclaration** : Toute fausse déclaration intentionnelle annule la garantie décès.',\n",
       " '# CONTRAT D’ASSURANCE VIE : AssurPlus Vie: ## 8. Obligations de l’Assureur',\n",
       " '# CONTRAT D’ASSURANCE VIE : AssurPlus Vie: - L’Assureur s’engage à gérer les fonds investis selon les règles en vigueur et à verser au souscripteur ou au bénéficiaire les sommes dues.\\n- L’Assureur doit communiquer annuellement la valeur du contrat et les rendements.',\n",
       " '# CONTRAT D’ASSURANCE VIE : AssurPlus Vie: ## 9. Résiliation',\n",
       " '# CONTRAT D’ASSURANCE VIE : AssurPlus Vie: - Le souscripteur peut demander la résiliation à tout moment.  \\n- L’Assureur peut résilier le contrat uniquement pour non-paiement des primes ou fraude avérée.',\n",
       " '# CONTRAT D’ASSURANCE VIE : AssurPlus Vie: ## 10. Loi Applicable et Juridiction',\n",
       " '# CONTRAT D’ASSURANCE VIE : AssurPlus Vie: - Le présent contrat est régi par le droit français.\\n- En cas de litige, les tribunaux compétents sont ceux du siège social de l’assureur, sauf disposition légale contraire.',\n",
       " '# CONTRAT D’ASSURANCE VIE : AssurPlus Vie: Fait à Paris, le 01/01/2023.  ',\n",
       " '# CONTRAT D’ASSURANCE VIE : AssurPlus Vie: **Signature Souscripteur** : ………………………  \\n**Signature Assureur** : …………………………\\n',\n",
       " '# CONTRAT D’ASSURANCE VIE : Sécurité Avenir: # CONTRAT D’ASSURANCE VIE : Sécurité Avenir',\n",
       " '# CONTRAT D’ASSURANCE VIE : Sécurité Avenir: ## Article 1 : Présentation du Contrat',\n",
       " '# CONTRAT D’ASSURANCE VIE : Sécurité Avenir: - Assureur : SécurFinance Assurances\\n- Type : Contrat multisupport (fonds en euros + unités de compte)\\n- Date d’effet : 15/03/2024\\n- Durée : Indéterminée, avec possibilité de rachats partiels ou totaux',\n",
       " '# CONTRAT D’ASSURANCE VIE : Sécurité Avenir: ## Article 2 : Personnes Concernées',\n",
       " '# CONTRAT D’ASSURANCE VIE : Sécurité Avenir: - Souscripteur : Toute personne majeure résidant en France.\\n- Bénéficiaire en cas de décès : Désigné par le souscripteur dans le bulletin d’adhésion.',\n",
       " '# CONTRAT D’ASSURANCE VIE : Sécurité Avenir: ## Article 3 : Cotisations',\n",
       " '# CONTRAT D’ASSURANCE VIE : Sécurité Avenir: - **Versement Initial** : 5 000 € minimum.\\n- **Versements Libres** : À partir de 500 €.\\n- **Versements Programmés** : Possibles mensuellement à partir de 100 € (frais de 1% par versement).',\n",
       " '# CONTRAT D’ASSURANCE VIE : Sécurité Avenir: ## Article 4 : Mode de Gestion',\n",
       " '# CONTRAT D’ASSURANCE VIE : Sécurité Avenir: 1. **Fonds en euros** : Capital garanti, rendement variable selon les résultats de l’assureur (environ 1 à 2,5% annuels historiques).  \\n2. **Unités de compte** : Investissement sur des fonds actions, obligations, immobiliers, etc. Risque de perte en capital.  ',\n",
       " '# CONTRAT D’ASSURANCE VIE : Sécurité Avenir: ## Article 5 : Frais',\n",
       " '# CONTRAT D’ASSURANCE VIE : Sécurité Avenir: - **Frais d’entrée** : 3% sur chaque versement.  \\n- **Frais de gestion annuels** :\\n  - 0,8% sur le fonds en euros\\n  - 1% sur les unités de compte\\n- **Frais d’arbitrage** : 0,5% du montant arbitré, avec un minimum de 10€ par opération.',\n",
       " '# CONTRAT D’ASSURANCE VIE : Sécurité Avenir: ## Article 6 : Prestations',\n",
       " '# CONTRAT D’ASSURANCE VIE : Sécurité Avenir: 1. **En cas de Vie à l’échéance** : Versement du capital constitué ou possibilité de rente viagère.\\n2. **En cas de Décès** : Transmission du capital acquis au(x) bénéficiaire(s) désigné(s).',\n",
       " '# CONTRAT D’ASSURANCE VIE : Sécurité Avenir: ## Article 7 : Rachat et Avances',\n",
       " '# CONTRAT D’ASSURANCE VIE : Sécurité Avenir: - **Rachat total** : Possible à tout moment, sous réserve de frais si effectué avant la 2ème année.\\n- **Rachat partiel** : Montant minimum de 1 000 € par opération.\\n- **Avance** : L’assureur peut accorder une avance sur la valeur du contrat, remboursable selon les modalités convenues.',\n",
       " '# CONTRAT D’ASSURANCE VIE : Sécurité Avenir: ## Article 8 : Exclusions et Limitations',\n",
       " '# CONTRAT D’ASSURANCE VIE : Sécurité Avenir: - Décès suite à un acte intentionnel du bénéficiaire ne sera pas couvert.\\n- En cas de fausse déclaration (âge, état de santé, etc.), l’assureur peut réduire ou refuser la prestation.',\n",
       " '# CONTRAT D’ASSURANCE VIE : Sécurité Avenir: ## Article 9 : Information Annuelle',\n",
       " '# CONTRAT D’ASSURANCE VIE : Sécurité Avenir: - L’assureur transmet chaque année un relevé de situation indiquant :  \\n  - Le total des versements  \\n  - La valeur des supports (euros et unités de compte)  \\n  - Les frais prélevés  \\n  - Les performances des unités de compte',\n",
       " '# CONTRAT D’ASSURANCE VIE : Sécurité Avenir: ## Article 10 : Loi Applicable',\n",
       " '# CONTRAT D’ASSURANCE VIE : Sécurité Avenir: - Le présent contrat est régi par le Code des assurances français.\\n- Pour tout litige, compétence exclusive des tribunaux français.',\n",
       " '# CONTRAT D’ASSURANCE VIE : Sécurité Avenir: Fait à Lyon, le 15/03/2024',\n",
       " '# CONTRAT D’ASSURANCE VIE : Sécurité Avenir: **Signature du Souscripteur** : ………………………  \\n**Signature de l’Assureur** : ………………………\\n',\n",
       " '# CONTRAT D’ASSURANCE VIE : Famille Sérénité: # CONTRAT D’ASSURANCE VIE : Famille Sérénité',\n",
       " '# CONTRAT D’ASSURANCE VIE : Famille Sérénité: ## Article 1 : Objet du Contrat',\n",
       " '# CONTRAT D’ASSURANCE VIE : Famille Sérénité: - Assureur : FamiliAssur\\n- Le contrat “Famille Sérénité” a pour but de couvrir les risques de décès et d’invalidité (en option), tout en permettant la constitution d’une épargne transmissible aux proches.',\n",
       " '# CONTRAT D’ASSURANCE VIE : Famille Sérénité: ## Article 2 : Souscripteur et Bénéficiaires',\n",
       " '# CONTRAT D’ASSURANCE VIE : Famille Sérénité: - Souscripteur : Toute personne âgée de 18 à 70 ans au moment de la souscription.\\n- Bénéficiaire : Désigné par clause bénéficiaire (par exemple, « mon conjoint, puis mes enfants »).  \\n  Peut être modifié par avenant.',\n",
       " '# CONTRAT D’ASSURANCE VIE : Famille Sérénité: ## Article 3 : Primes et Cotisations',\n",
       " '# CONTRAT D’ASSURANCE VIE : Famille Sérénité: - **Versement Initial** : 3 000 € minimum.  \\n- **Versements Libres** : Minimum 500 €.  \\n- **Primes Programmées** : Mensuelles ou trimestrielles, à partir de 100 € par mois.',\n",
       " '# CONTRAT D’ASSURANCE VIE : Famille Sérénité: ## Article 4 : Garanties',\n",
       " '# CONTRAT D’ASSURANCE VIE : Famille Sérénité: 1. **Garantie Décès**  \\n   - Capital = Épargne acquise (fonds en euros + unités de compte), éventuellement bonifiée selon l’âge de l’assuré.  \\n   - Exclusions particulières : Décès volontaire ou fausse déclaration.\\n2. **Option Invalidité Absolue et Définitive (IAD)**  \\n   - Versement anticipé d’une partie de l’épargne en cas d’invalidité reconnue, selon les barèmes de FamiliAssur.',\n",
       " '# CONTRAT D’ASSURANCE VIE : Famille Sérénité: ## Article 5 : Supports d’Investissement',\n",
       " '# CONTRAT D’ASSURANCE VIE : Famille Sérénité: - **Fonds en Euros** : Capital garanti, rendement annuel généralement autour de 1,5 – 2,5%.\\n- **Unités de Compte** : Fonds actions, obligations, ou diversifiés, sans garantie de capital.',\n",
       " '# CONTRAT D’ASSURANCE VIE : Famille Sérénité: ## Article 6 : Frais',\n",
       " '# CONTRAT D’ASSURANCE VIE : Famille Sérénité: - **Frais sur Versements** : 2,5% prélevés à chaque versement.  \\n- **Frais de Gestion** : 0,9% annuels sur le fonds en euros, 1,2% sur les unités de compte.  \\n- **Frais de Rachat** : 0% après 3 ans de détention, 2% la première année et 1% la deuxième.',\n",
       " '# CONTRAT D’ASSURANCE VIE : Famille Sérénité: ## Article 7 : Rachat et Avances',\n",
       " '# CONTRAT D’ASSURANCE VIE : Famille Sérénité: - **Rachat Total ou Partiel** : Possible à tout moment, sous réserve de frais (voir supra).\\n- **Avances** : Possibles dans la limite de 80% de la valeur du contrat.',\n",
       " '# CONTRAT D’ASSURANCE VIE : Famille Sérénité: ## Article 8 : Modalités de Règlement',\n",
       " '# CONTRAT D’ASSURANCE VIE : Famille Sérénité: - En cas de décès, paiement du capital au bénéficiaire désigné, sous 30 jours après réception du dossier complet.\\n- En cas de rachat, versement sous 10 jours ouvrés.',\n",
       " '# CONTRAT D’ASSURANCE VIE : Famille Sérénité: ## Article 9 : Droit Applicable',\n",
       " '# CONTRAT D’ASSURANCE VIE : Famille Sérénité: - Contrat soumis au droit français.\\n- Litiges traités par les tribunaux compétents du ressort de la Cour d’Appel où se situe le siège de l’assureur, ou du domicile du souscripteur selon les dispositions légales.',\n",
       " '# CONTRAT D’ASSURANCE VIE : Famille Sérénité: Fait à Lille, le 05/06/2024',\n",
       " '# CONTRAT D’ASSURANCE VIE : Famille Sérénité: **Signature Souscripteur** : ………………  \\n**Signature Assureur** : ………………\\n',\n",
       " '# CONTRAT D’ASSURANCE VIE : Epargne & Protection: # CONTRAT D’ASSURANCE VIE : Epargne & Protection',\n",
       " '# CONTRAT D’ASSURANCE VIE : Epargne & Protection: ## 1. Présentation',\n",
       " '# CONTRAT D’ASSURANCE VIE : Epargne & Protection: - Assureur : Protectis Assurances\\n- Objet : Permettre au souscripteur de constituer une épargne à moyen ou long terme, avec une garantie en cas de décès.\\n- Date de Souscription : 12/09/2025\\n- Durée : Indéterminée',\n",
       " '# CONTRAT D’ASSURANCE VIE : Epargne & Protection: ## 2. Déclarations et Définitions',\n",
       " '# CONTRAT D’ASSURANCE VIE : Epargne & Protection: - **Souscripteur** : Personne qui signe le contrat et verse les primes.\\n- **Assuré** : Personne sur la tête de laquelle repose le risque (souvent le souscripteur lui-même).\\n- **Bénéficiaire** : Personne désignée pour recevoir le capital en cas de décès ou à l’échéance du contrat.',\n",
       " '# CONTRAT D’ASSURANCE VIE : Epargne & Protection: ## 3. Garanties',\n",
       " '# CONTRAT D’ASSURANCE VIE : Epargne & Protection: 1. **Garantie Décès**  \\n   - Capital garanti : Valeur acquise du contrat au jour du décès, augmentée d’une participation aux bénéfices éventuels.\\n2. **Garantie Vie (échéance)**  \\n   - Possibilité de récupérer la totalité de l’épargne constituée ou de la transformer en rente viagère.',\n",
       " '# CONTRAT D’ASSURANCE VIE : Epargne & Protection: ## 4. Modalités de Versement',\n",
       " '# CONTRAT D’ASSURANCE VIE : Epargne & Protection: - **Prime Initiale** : 1 500 € minimum.  \\n- **Versements Libres** : 100 € minimum par versement supplémentaire.  \\n- **Versements Programmés** : Possibles tous les trimestres, à partir de 50 €.',\n",
       " '# CONTRAT D’ASSURANCE VIE : Epargne & Protection: ## 5. Frais',\n",
       " '# CONTRAT D’ASSURANCE VIE : Epargne & Protection: - **Frais d’Entrée** : 2% des sommes versées.\\n- **Frais de Gestion** : 1% annuel sur l’encours (calculé pro rata temporis).\\n- **Frais d’Arbitrage** : 0,2% du montant arbitré, avec un minimum de 8€.',\n",
       " '# CONTRAT D’ASSURANCE VIE : Epargne & Protection: ## 6. Rachats',\n",
       " '# CONTRAT D’ASSURANCE VIE : Epargne & Protection: - **Rachat Total** : Possibilité à tout moment, sous réserve de frais si le contrat a moins de 2 ans.\\n- **Rachat Partiel** : Somme minimale de 500 €, tout en conservant au moins 1 000 € sur le contrat.',\n",
       " '# CONTRAT D’ASSURANCE VIE : Epargne & Protection: ## 7. Exclusions',\n",
       " '# CONTRAT D’ASSURANCE VIE : Epargne & Protection: - **Décès volontairement causé** par un bénéficiaire désigné : le capital décès ne sera pas versé à ce bénéficiaire.\\n- **Fausse déclaration** : Peut annuler tout ou partie des garanties.',\n",
       " '# CONTRAT D’ASSURANCE VIE : Epargne & Protection: ## 8. Informations Légales',\n",
       " '# CONTRAT D’ASSURANCE VIE : Epargne & Protection: - Contrat régi par le Code des assurances français.\\n- Les réclamations peuvent être adressées au service client de Protectis Assurances.\\n- En cas de désaccord, compétence des tribunaux du siège de l’assureur, sauf disposition légale particulière.',\n",
       " '# CONTRAT D’ASSURANCE VIE : Epargne & Protection: Fait à Nice, le 12/09/2025',\n",
       " '# CONTRAT D’ASSURANCE VIE : Epargne & Protection: **Signature du Souscripteur** : ………………  \\n**Signature de l’Assureur** : ………………\\n']"
      ]
     },
     "execution_count": 33,
     "metadata": {},
     "output_type": "execute_result"
    }
   ],
   "source": [
    "chunks"
   ]
  },
  {
   "cell_type": "markdown",
   "metadata": {},
   "source": [
    "# Embeddings"
   ]
  },
  {
   "cell_type": "code",
   "execution_count": 60,
   "metadata": {},
   "outputs": [],
   "source": [
    "from FlagEmbedding import FlagModel"
   ]
  },
  {
   "cell_type": "markdown",
   "metadata": {},
   "source": [
    "tester différents embeddings"
   ]
  },
  {
   "cell_type": "code",
   "execution_count": 61,
   "metadata": {},
   "outputs": [],
   "source": [
    "embedder = FlagModel(\n",
    "    'BAAI/bge-base-en-v1.5',\n",
    "    query_instruction_for_retrieval=\"Represent this sentence for searching relevant passages:\",\n",
    "    use_fp16=True,\n",
    ")"
   ]
  },
  {
   "cell_type": "code",
   "execution_count": 62,
   "metadata": {},
   "outputs": [
    {
     "name": "stderr",
     "output_type": "stream",
     "text": [
      "You're using a BertTokenizerFast tokenizer. Please note that with a fast tokenizer, using the `__call__` method is faster than using a method to encode the text followed by a call to the `pad` method to get a padded encoding.\n"
     ]
    }
   ],
   "source": [
    "corpus_embedding = embedder.encode(chunks)"
   ]
  },
  {
   "cell_type": "code",
   "execution_count": 63,
   "metadata": {},
   "outputs": [],
   "source": [
    "queries = [\n",
    "    \"Quel est l'objet du contrat patrimoine vie plus ?\",\n",
    "    \"Qui est l'assureur du contrat sécurité avenir ?\",\n",
    "]"
   ]
  },
  {
   "cell_type": "code",
   "execution_count": 64,
   "metadata": {},
   "outputs": [],
   "source": [
    "query_embedding = embedder.encode(queries)"
   ]
  },
  {
   "cell_type": "markdown",
   "metadata": {},
   "source": [
    "Sim scores is simply a search for similarity between the queries embedding and the corpus embedding."
   ]
  },
  {
   "cell_type": "code",
   "execution_count": 65,
   "metadata": {},
   "outputs": [
    {
     "data": {
      "text/plain": [
       "array([[0.825 , 0.812 , 0.855 , 0.8403, 0.8286, 0.8203, 0.8296, 0.832 ,\n",
       "        0.8203, 0.818 , 0.819 , 0.8315, 0.8315, 0.765 , 0.822 , 0.807 ,\n",
       "        0.7783, 0.801 , 0.8223, 0.822 , 0.783 , 0.8203, 0.6514, 0.716 ,\n",
       "        0.7373, 0.755 , 0.709 , 0.7686, 0.689 , 0.7505, 0.7407, 0.749 ,\n",
       "        0.6377, 0.7764, 0.661 , 0.774 , 0.708 , 0.708 , 0.7085, 0.7617,\n",
       "        0.7104, 0.744 , 0.692 , 0.7363, 0.748 , 0.7544, 0.7183, 0.7007,\n",
       "        0.746 , 0.748 , 0.7573, 0.73  , 0.7485, 0.7153, 0.758 , 0.7495,\n",
       "        0.7705, 0.6973, 0.75  , 0.7524, 0.7666, 0.726 , 0.7705, 0.771 ,\n",
       "        0.7827, 0.73  , 0.731 , 0.7153, 0.71  , 0.704 , 0.712 , 0.7188,\n",
       "        0.701 , 0.7163, 0.715 , 0.7334, 0.6987, 0.743 , 0.6787, 0.7266,\n",
       "        0.699 , 0.7407, 0.727 , 0.7285, 0.7134, 0.708 , 0.7007, 0.7334,\n",
       "        0.684 , 0.715 , 0.7163, 0.7627, 0.701 , 0.7583, 0.7705, 0.732 ,\n",
       "        0.743 , 0.724 , 0.716 , 0.71  , 0.716 , 0.712 , 0.742 , 0.7188,\n",
       "        0.7524, 0.729 , 0.7456, 0.707 , 0.7666, 0.695 , 0.703 , 0.693 ,\n",
       "        0.66  , 0.7   , 0.6777, 0.7324, 0.7017, 0.7173, 0.7007, 0.71  ,\n",
       "        0.669 , 0.718 , 0.6416, 0.746 , 0.657 , 0.736 , 0.705 , 0.706 ,\n",
       "        0.689 , 0.696 ],\n",
       "       [0.664 , 0.7227, 0.7095, 0.7886, 0.7144, 0.76  , 0.7583, 0.71  ,\n",
       "        0.746 , 0.7183, 0.7324, 0.722 , 0.753 , 0.6675, 0.7563, 0.7197,\n",
       "        0.7344, 0.6924, 0.778 , 0.6943, 0.683 , 0.7407, 0.607 , 0.684 ,\n",
       "        0.6953, 0.727 , 0.686 , 0.758 , 0.6606, 0.7153, 0.709 , 0.721 ,\n",
       "        0.611 , 0.76  , 0.656 , 0.7383, 0.6797, 0.709 , 0.702 , 0.703 ,\n",
       "        0.6533, 0.735 , 0.6694, 0.728 , 0.7593, 0.782 , 0.7363, 0.7188,\n",
       "        0.737 , 0.774 , 0.7236, 0.7456, 0.74  , 0.7617, 0.779 , 0.7476,\n",
       "        0.7476, 0.7305, 0.7583, 0.7964, 0.771 , 0.7285, 0.7964, 0.7827,\n",
       "        0.8105, 0.755 , 0.7637, 0.855 , 0.8447, 0.817 , 0.86  , 0.8003,\n",
       "        0.8306, 0.824 , 0.825 , 0.833 , 0.8364, 0.8315, 0.8145, 0.8174,\n",
       "        0.826 , 0.8438, 0.8174, 0.8564, 0.835 , 0.838 , 0.8184, 0.85  ,\n",
       "        0.8315, 0.833 , 0.734 , 0.761 , 0.7246, 0.761 , 0.751 , 0.748 ,\n",
       "        0.746 , 0.745 , 0.729 , 0.733 , 0.7236, 0.742 , 0.77  , 0.75  ,\n",
       "        0.7744, 0.7446, 0.7466, 0.7173, 0.794 , 0.7188, 0.734 , 0.7847,\n",
       "        0.782 , 0.787 , 0.769 , 0.788 , 0.7905, 0.755 , 0.793 , 0.7725,\n",
       "        0.781 , 0.77  , 0.7563, 0.786 , 0.747 , 0.7563, 0.7905, 0.813 ,\n",
       "        0.7905, 0.7827]], dtype=float16)"
      ]
     },
     "execution_count": 65,
     "metadata": {},
     "output_type": "execute_result"
    }
   ],
   "source": [
    "sim_scores = query_embedding @ corpus_embedding.T\n",
    "sim_scores"
   ]
  },
  {
   "cell_type": "code",
   "execution_count": 66,
   "metadata": {},
   "outputs": [
    {
     "name": "stdout",
     "output_type": "stream",
     "text": [
      " ---- \n",
      "Query:  Quel est l'objet du contrat patrimoine vie plus ?\n",
      "Sources:\n",
      "1 -- similarity 0.85 -- \" # NOTICE D’INFORMATION : Contrat Patrimoine Vie Plus: ## 1. Objet du Contrat \"\n",
      "2 -- similarity 0.84 -- \" # NOTICE D’INFORMATION : Contrat Patrimoine Vie Plus: - Protéger et valoriser l’épargne du souscripteur via un contrat d’assurance vie multisupport. \"\n",
      "3 -- similarity 0.83 -- \" # NOTICE D’INFORMATION : Contrat Patrimoine Vie Plus: ## 3. Frais et Charges \"\n",
      "4 -- similarity 0.83 -- \" # NOTICE D’INFORMATION : Contrat Patrimoine Vie Plus: ## 5. Clause Bénéficiaire \"\n",
      "5 -- similarity 0.83 -- \" # NOTICE D’INFORMATION : Contrat Patrimoine Vie Plus: - Par défaut : « Le conjoint survivant, à défaut les enfants nés ou à naître, à défaut les héritiers légaux. »\n",
      "- Le souscripteur peut désigner tout autre bénéficiaire par écrit.   \"\n",
      " ---- \n",
      "Query:  Qui est l'assureur du contrat sécurité avenir ?\n",
      "Sources:\n",
      "1 -- similarity 0.86 -- \" # CONTRAT D’ASSURANCE VIE : Sécurité Avenir: ## Article 2 : Personnes Concernées \"\n",
      "2 -- similarity 0.86 -- \" # CONTRAT D’ASSURANCE VIE : Sécurité Avenir: - Décès suite à un acte intentionnel du bénéficiaire ne sera pas couvert.\n",
      "- En cas de fausse déclaration (âge, état de santé, etc.), l’assureur peut réduire ou refuser la prestation. \"\n",
      "3 -- similarity 0.85 -- \" # CONTRAT D’ASSURANCE VIE : Sécurité Avenir: # CONTRAT D’ASSURANCE VIE : Sécurité Avenir \"\n",
      "4 -- similarity 0.85 -- \" # CONTRAT D’ASSURANCE VIE : Sécurité Avenir: - Le présent contrat est régi par le Code des assurances français.\n",
      "- Pour tout litige, compétence exclusive des tribunaux français. \"\n",
      "5 -- similarity 0.84 -- \" # CONTRAT D’ASSURANCE VIE : Sécurité Avenir: ## Article 1 : Présentation du Contrat \"\n"
     ]
    }
   ],
   "source": [
    "for query, score in zip(queries, sim_scores):\n",
    "    print(\" ---- \")\n",
    "    print(\"Query: \", query)\n",
    "    indexes = np.argsort(score)[-5:]\n",
    "    print(\"Sources:\")\n",
    "    for i, idx in enumerate(reversed(indexes)):\n",
    "        if score[idx] > .5:\n",
    "            print(f\"{i+1} -- similarity {score[idx]:.2f} -- \\\"\", chunks[idx], '\"')"
   ]
  },
  {
   "cell_type": "code",
   "execution_count": 67,
   "metadata": {},
   "outputs": [],
   "source": [
    "df = pd.read_csv(\"questions.csv\")"
   ]
  },
  {
   "cell_type": "code",
   "execution_count": 69,
   "metadata": {},
   "outputs": [
    {
     "data": {
      "text/plain": [
       "array([[-0.0138  , -0.002901,  0.04266 , ..., -0.05826 ,  0.03516 ,\n",
       "         0.001739],\n",
       "       [-0.006912,  0.01024 ,  0.01994 , ..., -0.03494 ,  0.008   ,\n",
       "         0.03162 ]], dtype=float16)"
      ]
     },
     "execution_count": 69,
     "metadata": {},
     "output_type": "execute_result"
    }
   ],
   "source": [
    "query_embedding = embedder.encode(list(df[\"question\"]))\n",
    "query_embedding"
   ]
  },
  {
   "cell_type": "code",
   "execution_count": 70,
   "metadata": {},
   "outputs": [],
   "source": [
    "def compute_mrr(sim_score, acceptable_chunks):\n",
    "    ranks = []\n",
    "    for this_score, this_acceptable_chunks in zip(sim_score, acceptable_chunks):\n",
    "        indexes = reversed(np.argsort(this_score))\n",
    "        rank = 1 + next(i for i, idx in enumerate(indexes) if idx in this_acceptable_chunks)\n",
    "        ranks.append(rank)\n",
    "        \n",
    "    return {\n",
    "        \"score\": sum(1 / r if r < 6 else 0 for r in ranks) / len(ranks),\n",
    "        \"ranks\": ranks,\n",
    "    }"
   ]
  },
  {
   "cell_type": "code",
   "execution_count": 104,
   "metadata": {},
   "outputs": [],
   "source": [
    "def get_context(query, corpus, corpus_embedding):\n",
    "    query_embedding = embedder.encode([query])\n",
    "    sim_scores = query_embedding @ corpus_embedding.T\n",
    "    indexes = list(np.argsort(sim_scores[0]))[-5:]\n",
    "    return [corpus[i] for i in indexes]"
   ]
  },
  {
   "cell_type": "code",
   "execution_count": 75,
   "metadata": {},
   "outputs": [
    {
     "data": {
      "text/plain": [
       "array([[0.825 , 0.812 , 0.855 , 0.8403, 0.8286, 0.8203, 0.8296, 0.832 ,\n",
       "        0.8203, 0.818 , 0.819 , 0.8315, 0.8315, 0.765 , 0.822 , 0.807 ,\n",
       "        0.7783, 0.801 , 0.8223, 0.822 , 0.783 , 0.8203, 0.6514, 0.716 ,\n",
       "        0.7373, 0.755 , 0.709 , 0.7686, 0.689 , 0.7505, 0.7407, 0.749 ,\n",
       "        0.6377, 0.7764, 0.661 , 0.774 , 0.708 , 0.708 , 0.7085, 0.7617,\n",
       "        0.7104, 0.744 , 0.692 , 0.7363, 0.748 , 0.7544, 0.7183, 0.7007,\n",
       "        0.746 , 0.748 , 0.7573, 0.73  , 0.7485, 0.7153, 0.758 , 0.7495,\n",
       "        0.7705, 0.6973, 0.75  , 0.7524, 0.7666, 0.726 , 0.7705, 0.771 ,\n",
       "        0.7827, 0.73  , 0.731 , 0.7153, 0.71  , 0.704 , 0.712 , 0.7188,\n",
       "        0.701 , 0.7163, 0.715 , 0.7334, 0.6987, 0.743 , 0.6787, 0.7266,\n",
       "        0.699 , 0.7407, 0.727 , 0.7285, 0.7134, 0.708 , 0.7007, 0.7334,\n",
       "        0.684 , 0.715 , 0.7163, 0.7627, 0.701 , 0.7583, 0.7705, 0.732 ,\n",
       "        0.743 , 0.724 , 0.716 , 0.71  , 0.716 , 0.712 , 0.742 , 0.7188,\n",
       "        0.7524, 0.729 , 0.7456, 0.707 , 0.7666, 0.695 , 0.703 , 0.693 ,\n",
       "        0.66  , 0.7   , 0.6777, 0.7324, 0.7017, 0.7173, 0.7007, 0.71  ,\n",
       "        0.669 , 0.718 , 0.6416, 0.746 , 0.657 , 0.736 , 0.705 , 0.706 ,\n",
       "        0.689 , 0.696 ],\n",
       "       [0.664 , 0.7227, 0.7095, 0.7886, 0.7144, 0.76  , 0.7583, 0.71  ,\n",
       "        0.746 , 0.7183, 0.7324, 0.722 , 0.753 , 0.6675, 0.7563, 0.7197,\n",
       "        0.7344, 0.6924, 0.778 , 0.6943, 0.683 , 0.7407, 0.607 , 0.684 ,\n",
       "        0.6953, 0.727 , 0.686 , 0.758 , 0.6606, 0.7153, 0.709 , 0.721 ,\n",
       "        0.611 , 0.76  , 0.656 , 0.7383, 0.6797, 0.709 , 0.702 , 0.703 ,\n",
       "        0.6533, 0.735 , 0.6694, 0.728 , 0.7593, 0.782 , 0.7363, 0.7188,\n",
       "        0.737 , 0.774 , 0.7236, 0.7456, 0.74  , 0.7617, 0.779 , 0.7476,\n",
       "        0.7476, 0.7305, 0.7583, 0.7964, 0.771 , 0.7285, 0.7964, 0.7827,\n",
       "        0.8105, 0.755 , 0.7637, 0.855 , 0.8447, 0.817 , 0.86  , 0.8003,\n",
       "        0.8306, 0.824 , 0.825 , 0.833 , 0.8364, 0.8315, 0.8145, 0.8174,\n",
       "        0.826 , 0.8438, 0.8174, 0.8564, 0.835 , 0.838 , 0.8184, 0.85  ,\n",
       "        0.8315, 0.833 , 0.734 , 0.761 , 0.7246, 0.761 , 0.751 , 0.748 ,\n",
       "        0.746 , 0.745 , 0.729 , 0.733 , 0.7236, 0.742 , 0.77  , 0.75  ,\n",
       "        0.7744, 0.7446, 0.7466, 0.7173, 0.794 , 0.7188, 0.734 , 0.7847,\n",
       "        0.782 , 0.787 , 0.769 , 0.788 , 0.7905, 0.755 , 0.793 , 0.7725,\n",
       "        0.781 , 0.77  , 0.7563, 0.786 , 0.747 , 0.7563, 0.7905, 0.813 ,\n",
       "        0.7905, 0.7827]], dtype=float16)"
      ]
     },
     "execution_count": 75,
     "metadata": {},
     "output_type": "execute_result"
    }
   ],
   "source": [
    "sim_scores = query_embedding @ corpus_embedding.T\n",
    "sim_scores"
   ]
  },
  {
   "cell_type": "code",
   "execution_count": 115,
   "metadata": {},
   "outputs": [
    {
     "data": {
      "text/plain": [
       "['# NOTICE D’INFORMATION : Contrat Patrimoine Vie Plus: ## 2. Garanties',\n",
       " '# NOTICE D’INFORMATION : Contrat Patrimoine Vie Plus: ## 4. Modalités de Règlement des Prestations',\n",
       " '# NOTICE D’INFORMATION : Contrat Patrimoine Vie Plus: - Protéger et valoriser l’épargne du souscripteur via un contrat d’assurance vie multisupport.',\n",
       " '# NOTICE D’INFORMATION : Contrat Patrimoine Vie Plus: ## 7. Garanties Complémentaires (Optionnelles)',\n",
       " '# NOTICE D’INFORMATION : Contrat Patrimoine Vie Plus: ## 8. Informations Complémentaires']"
      ]
     },
     "execution_count": 115,
     "metadata": {},
     "output_type": "execute_result"
    }
   ],
   "source": [
    "get_context(\"Donne moi les informations complémentaires sur le contrat Patrimoine Vie Plus.\", chunks, corpus_embedding)"
   ]
  },
  {
   "cell_type": "code",
   "execution_count": 114,
   "metadata": {},
   "outputs": [],
   "source": [
    "def build_smoll_messages(query, chunks, corpus_embedding):\n",
    "    context_str = \"\\n\\n\".join(get_context(query, chunks, corpus_embedding))\n",
    "\n",
    "    messages = [\n",
    "        {\"role\": \"system\", \"content\": f\"\"\"You reply to the user's request using only context information.\n",
    "        Context information to answer \"{query}\" is below\n",
    "        ------\n",
    "        Context:\n",
    "        {context_str}\n",
    "        ------\n",
    "        You are a helpful assistant for a insurance company. You reply to workers 'questions about the document that they send you.\n",
    "        \"\"\"},\n",
    "        {\"role\": \"user\", \"content\": query},\n",
    "    ]\n",
    "\n",
    "    return messages"
   ]
  },
  {
   "cell_type": "code",
   "execution_count": 118,
   "metadata": {},
   "outputs": [
    {
     "data": {
      "text/plain": [
       "[{'role': 'system',\n",
       "  'content': 'You reply to the user\\'s request using only context information.\\n        Context information to answer \"Donne moi des informations importante sur le contrat patrimoine vie plus\" is below\\n        ------\\n        Context:\\n        # NOTICE D’INFORMATION : Contrat Patrimoine Vie Plus: - Protéger et valoriser l’épargne du souscripteur via un contrat d’assurance vie multisupport.\\n\\n# NOTICE D’INFORMATION : Contrat Patrimoine Vie Plus: ## 4. Modalités de Règlement des Prestations\\n\\n# NOTICE D’INFORMATION : Contrat Patrimoine Vie Plus: ## 1. Objet du Contrat\\n\\n# NOTICE D’INFORMATION : Contrat Patrimoine Vie Plus: ## 8. Informations Complémentaires\\n\\n# NOTICE D’INFORMATION : Contrat Patrimoine Vie Plus: ## 2. Garanties\\n        ------\\n        You are a helpful assistant for a insurance company. You reply to workers \\'questions about the document that they send you.\\n        '},\n",
       " {'role': 'user',\n",
       "  'content': 'Donne moi des informations importante sur le contrat patrimoine vie plus'}]"
      ]
     },
     "execution_count": 118,
     "metadata": {},
     "output_type": "execute_result"
    }
   ],
   "source": [
    "messages = build_smoll_messages(\"Donne moi des informations importante sur le contrat patrimoine vie plus\", chunks, corpus_embedding)\n",
    "messages"
   ]
  },
  {
   "cell_type": "code",
   "execution_count": 120,
   "metadata": {},
   "outputs": [
    {
     "name": "stdout",
     "output_type": "stream",
     "text": [
      "\n"
     ]
    }
   ],
   "source": [
    "messages = build_smoll_messages(\"Donne moi les informations complémentaires sur le contrat Patrimoine Vie Plus.\", chunks, corpus_embedding)\n",
    "\n",
    "input_text=tokenizer.apply_chat_template(messages, tokenize=False)\n",
    "inputs = tokenizer.encode(input_text, return_tensors=\"pt\").to(device)\n",
    "outputs = model.generate(inputs, max_new_tokens=500, temperature=0.1, top_p=0.9, do_sample=True)\n",
    "response = tokenizer.decode(outputs[0])\n",
    "print(parse_smoll_response(response))"
   ]
  },
  {
   "cell_type": "code",
   "execution_count": 87,
   "metadata": {},
   "outputs": [],
   "source": [
    "questions = pd.read_csv('questions.csv')\n",
    "questions_list = questions['question'].tolist()"
   ]
  },
  {
   "cell_type": "code",
   "execution_count": 89,
   "metadata": {},
   "outputs": [],
   "source": [
    "embeddings = embedder.encode(questions_list).tolist()  "
   ]
  },
  {
   "cell_type": "code",
   "execution_count": 90,
   "metadata": {},
   "outputs": [],
   "source": [
    "response_list = []\n",
    "for question in questions_list:\n",
    "    messages = build_smoll_messages(question, chunks, corpus_embedding)\n",
    "    input_text = tokenizer.apply_chat_template(messages, tokenize=False)\n",
    "    inputs = tokenizer.encode(input_text, return_tensors=\"pt\").to(device)\n",
    "    outputs = model.generate(\n",
    "        inputs, \n",
    "        max_new_tokens=500, \n",
    "        temperature=0.01, \n",
    "        top_p=0.9, \n",
    "        do_sample=True\n",
    "    )\n",
    "    response = tokenizer.decode(outputs[0])\n",
    "    response_list.append(response)"
   ]
  },
  {
   "cell_type": "code",
   "execution_count": 98,
   "metadata": {},
   "outputs": [],
   "source": [
    "def create_rag_csv(filename, query_list, answers):\n",
    "    \"\"\"\n",
    "    créer un fichier qui contient la query, les embeddings et les réponses (non-parsées)\n",
    "    \"\"\"\n",
    "    if not (len(query_list) == len(answers)):\n",
    "        raise ValueError(\"Les listes questions, embeddings et answers doivent avoir la même longueur.\")\n",
    "\n",
    "    # Préparer les données pour le CSV\n",
    "    data = [\n",
    "        {\n",
    "            \"question\": question,\n",
    "            \"rag_reply\": parse_smoll_response(answer),\n",
    "        }\n",
    "        for question, answer in zip(query_list, answers)\n",
    "    ]\n",
    "\n",
    "    # Créer un DataFrame et l'enregistrer en CSV\n",
    "    df = pd.DataFrame(data)\n",
    "    df.to_csv(filename, index=False)\n",
    "    print(f\"CSV créé : {filename}\")"
   ]
  },
  {
   "cell_type": "code",
   "execution_count": 99,
   "metadata": {},
   "outputs": [
    {
     "name": "stdout",
     "output_type": "stream",
     "text": [
      "CSV créé : SmolLV2_360m.csv\n"
     ]
    }
   ],
   "source": [
    "create_rag_csv('SmolLV2_360m.csv', query_list=questions_list, answers=response_list)"
   ]
  }
 ],
 "metadata": {
  "kernelspec": {
   "display_name": "Python 3",
   "language": "python",
   "name": "python3"
  },
  "language_info": {
   "codemirror_mode": {
    "name": "ipython",
    "version": 3
   },
   "file_extension": ".py",
   "mimetype": "text/x-python",
   "name": "python",
   "nbconvert_exporter": "python",
   "pygments_lexer": "ipython3",
   "version": "3.12.7"
  }
 },
 "nbformat": 4,
 "nbformat_minor": 2
}
